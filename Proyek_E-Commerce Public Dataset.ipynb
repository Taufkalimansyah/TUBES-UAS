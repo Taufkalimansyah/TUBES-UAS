{
 "cells": [
  {
   "cell_type": "markdown",
   "metadata": {
    "id": "WWttznT0ZhzV"
   },
   "source": [
    "# Proyek Analisis Data: E-Commerce Public Dataset\n",
    "- Kelompok : 5\n",
    "- Anggota  : </br>\n",
    "10123085 - Muhamad Rizki Fadilah</br>\n",
    "10123086 - Daffa Firizqi</br>\n",
    "10123098 - Arya Manggala</br>\n",
    "10123106 - Randy Fawwaz Aditya</br>\n",
    "10123125 - Nabila Syifa Az Zahra</br>\n",
    "10123126 - Taufik Alimansyah"
   ]
  },
  {
   "cell_type": "markdown",
   "metadata": {
    "id": "F-f303ymZhzo"
   },
   "source": [
    "## Menentukan Pertanyaan Bisnis"
   ]
  },
  {
   "cell_type": "markdown",
   "metadata": {
    "id": "2RErdaI4Zhzr"
   },
   "source": [
    "1. Apa produk yang paling banyak dibeli dan paling sedikit dibeli? - 10123085 - Muhamad Rizki Fadilah\n",
    "2. Bagaimana tingkat kepuasan pembeli terhadap layanan? - 10123086 - Daffa Firizqi\n",
    "3. Kota mana yang memiliki seller dan customer paling banyak? - 10123098 - Arya Manggala\n",
    "4. Metode pembayaran mana yang digunakan untuk jumlah pembayaran terbesar? Berapa besarnya nilai pembayarannya? - 10123106 - Randy Fawwaz Aditya\n",
    "5. Customer mana yang paling sering dan paling sedikit membeli? - 10123125 - Nabila Syifa Az Zahra\n",
    "6. Berapa Angsuran Tertinggi dan Terendah? - 10123126 - Taufik Alimansyah"
   ]
  },
  {
   "cell_type": "markdown",
   "metadata": {
    "id": "QGQRuwDJZhzw"
   },
   "source": [
    "## Menyiapkan semua library yang dibuthkan"
   ]
  },
  {
   "cell_type": "code",
   "execution_count": 4,
   "metadata": {
    "id": "ULgrY5VEZhzy"
   },
   "outputs": [
    {
     "ename": "ModuleNotFoundError",
     "evalue": "No module named 'pandas'",
     "output_type": "error",
     "traceback": [
      "\u001b[1;31m---------------------------------------------------------------------------\u001b[0m",
      "\u001b[1;31mModuleNotFoundError\u001b[0m                       Traceback (most recent call last)",
      "Cell \u001b[1;32mIn[4], line 1\u001b[0m\n\u001b[1;32m----> 1\u001b[0m \u001b[38;5;28;01mimport\u001b[39;00m\u001b[38;5;250m \u001b[39m\u001b[38;5;21;01mpandas\u001b[39;00m\u001b[38;5;250m \u001b[39m\u001b[38;5;28;01mas\u001b[39;00m\u001b[38;5;250m \u001b[39m\u001b[38;5;21;01mpd\u001b[39;00m\n\u001b[0;32m      2\u001b[0m \u001b[38;5;28;01mimport\u001b[39;00m\u001b[38;5;250m \u001b[39m\u001b[38;5;21;01mmatplotlib\u001b[39;00m\u001b[38;5;21;01m.\u001b[39;00m\u001b[38;5;21;01mpyplot\u001b[39;00m\u001b[38;5;250m \u001b[39m\u001b[38;5;28;01mas\u001b[39;00m\u001b[38;5;250m \u001b[39m\u001b[38;5;21;01mplt\u001b[39;00m\n\u001b[0;32m      3\u001b[0m \u001b[38;5;28;01mimport\u001b[39;00m\u001b[38;5;250m \u001b[39m\u001b[38;5;21;01mnumpy\u001b[39;00m\u001b[38;5;250m \u001b[39m\u001b[38;5;28;01mas\u001b[39;00m\u001b[38;5;250m \u001b[39m\u001b[38;5;21;01mnp\u001b[39;00m\n",
      "\u001b[1;31mModuleNotFoundError\u001b[0m: No module named 'pandas'"
     ]
    }
   ],
   "source": [
    "import pandas as pd\n",
    "import matplotlib.pyplot as plt\n",
    "import numpy as np\n",
    "import seaborn as sns\n",
    "import datetime as dt\n",
    "import matplotlib.ticker as mtick"
   ]
  },
  {
   "cell_type": "markdown",
   "metadata": {
    "id": "YLiIgIWbZhz1"
   },
   "source": [
    "## Data Wrangling\n",
    "Tahapan ini merupakan tahapan untuk mempersiapkan data mentah menjadi bentuk yang lebih bersih, terstruktur, dan siap digunakan untuk proses analisis data. pada tahapan ini terdiri dari\n",
    "\n",
    "\n",
    "1.   Gathering Data\n",
    "2.   Assessing Data\n",
    "3. Cleaning Data\n",
    "\n"
   ]
  },
  {
   "cell_type": "markdown",
   "metadata": {
    "id": "yVWqMrDrZhz3"
   },
   "source": [
    "### Gathering Data (Pengumpulan Data)\n",
    "ini merupakan tahapan dalam pengumpulan data dari berbagai sumber, disini merupakan tahapan import dataset kedalam notebook"
   ]
  },
  {
   "cell_type": "code",
   "execution_count": 14,
   "metadata": {
    "id": "0UyAork7Zhz7"
   },
   "outputs": [],
   "source": [
    "# membaca file customer_dataset.csv\n",
    "customer_df = pd.read_csv('Dataset/customers_dataset.csv')\n",
    "# membaca file geolocation_dataset.csv\n",
    "geolocation_df = pd.read_csv('Dataset/geolocation_dataset.csv')\n",
    "#membaca file order_items dataset.csv\n",
    "order_items_df = pd.read_csv('Dataset/order_items_dataset.csv')\n",
    "# membaca file order_payments_dataset.csv\n",
    "order_payments_df = pd.read_csv('Dataset/order_payments_dataset.csv')\n",
    "#membaca order_reviews_dataset.csv\n",
    "order_reviews_df = pd.read_csv('Dataset/order_reviews_dataset.csv')\n",
    "# Membaca file orders_dataset.csv\n",
    "orders_df = pd.read_csv('Dataset/orders_dataset.csv')\n",
    "#membaca file product_category_name_translation.csv\n",
    "product_category_df = pd.read_csv('Dataset/product_category_name_translation.csv')\n",
    "#membaca products_dataset.csv\n",
    "products_df = pd.read_csv('Dataset/products_dataset.csv')\n",
    "#membaca sellers_dataset.csv\n",
    "sellers_df = pd.read_csv ('Dataset/sellers_dataset.csv')"
   ]
  },
  {
   "cell_type": "markdown",
   "metadata": {
    "id": "QemsB4QfZhz8"
   },
   "source": [
    "### Assessing Data (Penilaian Data)\n",
    "ini merupakan tahapan untuk melakukan evaluasi data untuk mengidentifikasi masalah kualitas dan struktur data yang dapat mempengaruhi analisis dari mulai missing value, pencilan, ataupun tipe data yang tidak sesuai"
   ]
  },
  {
   "cell_type": "code",
   "execution_count": 15,
   "metadata": {
    "id": "sedEZuV7Zhz_",
    "outputId": "dd460f9f-56a1-4720-cf0d-fac98ebbb81b"
   },
   "outputs": [
    {
     "name": "stdout",
     "output_type": "stream",
     "text": [
      "<class 'pandas.core.frame.DataFrame'>\n",
      "RangeIndex: 99441 entries, 0 to 99440\n",
      "Data columns (total 5 columns):\n",
      " #   Column                    Non-Null Count  Dtype \n",
      "---  ------                    --------------  ----- \n",
      " 0   customer_id               99441 non-null  object\n",
      " 1   customer_unique_id        99441 non-null  object\n",
      " 2   customer_zip_code_prefix  99441 non-null  int64 \n",
      " 3   customer_city             99441 non-null  object\n",
      " 4   customer_state            99441 non-null  object\n",
      "dtypes: int64(1), object(4)\n",
      "memory usage: 3.8+ MB\n"
     ]
    }
   ],
   "source": [
    "customer_df.info()"
   ]
  },
  {
   "cell_type": "code",
   "execution_count": 16,
   "metadata": {
    "id": "UmP95basMb_z",
    "outputId": "fc75e10d-82c6-4193-c941-8c4d137cec5b"
   },
   "outputs": [
    {
     "data": {
      "text/plain": [
       "customer_id                 0\n",
       "customer_unique_id          0\n",
       "customer_zip_code_prefix    0\n",
       "customer_city               0\n",
       "customer_state              0\n",
       "dtype: int64"
      ]
     },
     "execution_count": 16,
     "metadata": {},
     "output_type": "execute_result"
    }
   ],
   "source": [
    "customer_df.isna().sum()"
   ]
  },
  {
   "cell_type": "code",
   "execution_count": 17,
   "metadata": {
    "id": "gOZcjyRaMb_0",
    "outputId": "7020f4a8-5b2b-4789-c2be-c1a775f8d1c0"
   },
   "outputs": [
    {
     "name": "stdout",
     "output_type": "stream",
     "text": [
      "Jumlah duplikasi:  0\n"
     ]
    }
   ],
   "source": [
    "print('Jumlah duplikasi: ', customer_df.duplicated().sum())"
   ]
  },
  {
   "cell_type": "code",
   "execution_count": 18,
   "metadata": {
    "id": "4tp9mv4KMb_1",
    "outputId": "0a2a4419-1402-4287-9945-38e3eed694c7"
   },
   "outputs": [
    {
     "data": {
      "text/html": [
       "<div>\n",
       "<style scoped>\n",
       "    .dataframe tbody tr th:only-of-type {\n",
       "        vertical-align: middle;\n",
       "    }\n",
       "\n",
       "    .dataframe tbody tr th {\n",
       "        vertical-align: top;\n",
       "    }\n",
       "\n",
       "    .dataframe thead th {\n",
       "        text-align: right;\n",
       "    }\n",
       "</style>\n",
       "<table border=\"1\" class=\"dataframe\">\n",
       "  <thead>\n",
       "    <tr style=\"text-align: right;\">\n",
       "      <th></th>\n",
       "      <th>customer_zip_code_prefix</th>\n",
       "    </tr>\n",
       "  </thead>\n",
       "  <tbody>\n",
       "    <tr>\n",
       "      <th>count</th>\n",
       "      <td>99441.000000</td>\n",
       "    </tr>\n",
       "    <tr>\n",
       "      <th>mean</th>\n",
       "      <td>35137.474583</td>\n",
       "    </tr>\n",
       "    <tr>\n",
       "      <th>std</th>\n",
       "      <td>29797.938996</td>\n",
       "    </tr>\n",
       "    <tr>\n",
       "      <th>min</th>\n",
       "      <td>1003.000000</td>\n",
       "    </tr>\n",
       "    <tr>\n",
       "      <th>25%</th>\n",
       "      <td>11347.000000</td>\n",
       "    </tr>\n",
       "    <tr>\n",
       "      <th>50%</th>\n",
       "      <td>24416.000000</td>\n",
       "    </tr>\n",
       "    <tr>\n",
       "      <th>75%</th>\n",
       "      <td>58900.000000</td>\n",
       "    </tr>\n",
       "    <tr>\n",
       "      <th>max</th>\n",
       "      <td>99990.000000</td>\n",
       "    </tr>\n",
       "  </tbody>\n",
       "</table>\n",
       "</div>"
      ],
      "text/plain": [
       "       customer_zip_code_prefix\n",
       "count              99441.000000\n",
       "mean               35137.474583\n",
       "std                29797.938996\n",
       "min                 1003.000000\n",
       "25%                11347.000000\n",
       "50%                24416.000000\n",
       "75%                58900.000000\n",
       "max                99990.000000"
      ]
     },
     "execution_count": 18,
     "metadata": {},
     "output_type": "execute_result"
    }
   ],
   "source": [
    "customer_df.describe()"
   ]
  },
  {
   "cell_type": "markdown",
   "metadata": {
    "id": "JURT0b4TMb_1"
   },
   "source": [
    "<h3>Menilai tabel geolocation</h3>"
   ]
  },
  {
   "cell_type": "code",
   "execution_count": 19,
   "metadata": {
    "id": "zRg5c7ESMb_1",
    "outputId": "9d848370-4c8f-4014-dcf3-e4186d466472"
   },
   "outputs": [
    {
     "name": "stdout",
     "output_type": "stream",
     "text": [
      "<class 'pandas.core.frame.DataFrame'>\n",
      "RangeIndex: 1000163 entries, 0 to 1000162\n",
      "Data columns (total 5 columns):\n",
      " #   Column                       Non-Null Count    Dtype  \n",
      "---  ------                       --------------    -----  \n",
      " 0   geolocation_zip_code_prefix  1000163 non-null  int64  \n",
      " 1   geolocation_lat              1000163 non-null  float64\n",
      " 2   geolocation_lng              1000163 non-null  float64\n",
      " 3   geolocation_city             1000163 non-null  object \n",
      " 4   geolocation_state            1000163 non-null  object \n",
      "dtypes: float64(2), int64(1), object(2)\n",
      "memory usage: 38.2+ MB\n"
     ]
    }
   ],
   "source": [
    "geolocation_df.info()"
   ]
  },
  {
   "cell_type": "code",
   "execution_count": 20,
   "metadata": {
    "id": "V7gJb0U0Mb_2",
    "outputId": "ebc13383-5f37-4328-84b3-f6d4b287d50a"
   },
   "outputs": [
    {
     "data": {
      "text/plain": [
       "geolocation_zip_code_prefix    0\n",
       "geolocation_lat                0\n",
       "geolocation_lng                0\n",
       "geolocation_city               0\n",
       "geolocation_state              0\n",
       "dtype: int64"
      ]
     },
     "execution_count": 20,
     "metadata": {},
     "output_type": "execute_result"
    }
   ],
   "source": [
    "geolocation_df.isna().sum()"
   ]
  },
  {
   "cell_type": "code",
   "execution_count": 21,
   "metadata": {
    "id": "4pi33hGYMb_2",
    "outputId": "b25366ad-3d25-468f-9973-354d20a37d4b"
   },
   "outputs": [
    {
     "name": "stdout",
     "output_type": "stream",
     "text": [
      "Jumlah duplikasi:  261831\n"
     ]
    },
    {
     "data": {
      "text/html": [
       "<div>\n",
       "<style scoped>\n",
       "    .dataframe tbody tr th:only-of-type {\n",
       "        vertical-align: middle;\n",
       "    }\n",
       "\n",
       "    .dataframe tbody tr th {\n",
       "        vertical-align: top;\n",
       "    }\n",
       "\n",
       "    .dataframe thead th {\n",
       "        text-align: right;\n",
       "    }\n",
       "</style>\n",
       "<table border=\"1\" class=\"dataframe\">\n",
       "  <thead>\n",
       "    <tr style=\"text-align: right;\">\n",
       "      <th></th>\n",
       "      <th>geolocation_zip_code_prefix</th>\n",
       "      <th>geolocation_lat</th>\n",
       "      <th>geolocation_lng</th>\n",
       "    </tr>\n",
       "  </thead>\n",
       "  <tbody>\n",
       "    <tr>\n",
       "      <th>count</th>\n",
       "      <td>1.000163e+06</td>\n",
       "      <td>1.000163e+06</td>\n",
       "      <td>1.000163e+06</td>\n",
       "    </tr>\n",
       "    <tr>\n",
       "      <th>mean</th>\n",
       "      <td>3.657417e+04</td>\n",
       "      <td>-2.117615e+01</td>\n",
       "      <td>-4.639054e+01</td>\n",
       "    </tr>\n",
       "    <tr>\n",
       "      <th>std</th>\n",
       "      <td>3.054934e+04</td>\n",
       "      <td>5.715866e+00</td>\n",
       "      <td>4.269748e+00</td>\n",
       "    </tr>\n",
       "    <tr>\n",
       "      <th>min</th>\n",
       "      <td>1.001000e+03</td>\n",
       "      <td>-3.660537e+01</td>\n",
       "      <td>-1.014668e+02</td>\n",
       "    </tr>\n",
       "    <tr>\n",
       "      <th>25%</th>\n",
       "      <td>1.107500e+04</td>\n",
       "      <td>-2.360355e+01</td>\n",
       "      <td>-4.857317e+01</td>\n",
       "    </tr>\n",
       "    <tr>\n",
       "      <th>50%</th>\n",
       "      <td>2.653000e+04</td>\n",
       "      <td>-2.291938e+01</td>\n",
       "      <td>-4.663788e+01</td>\n",
       "    </tr>\n",
       "    <tr>\n",
       "      <th>75%</th>\n",
       "      <td>6.350400e+04</td>\n",
       "      <td>-1.997962e+01</td>\n",
       "      <td>-4.376771e+01</td>\n",
       "    </tr>\n",
       "    <tr>\n",
       "      <th>max</th>\n",
       "      <td>9.999000e+04</td>\n",
       "      <td>4.506593e+01</td>\n",
       "      <td>1.211054e+02</td>\n",
       "    </tr>\n",
       "  </tbody>\n",
       "</table>\n",
       "</div>"
      ],
      "text/plain": [
       "       geolocation_zip_code_prefix  geolocation_lat  geolocation_lng\n",
       "count                 1.000163e+06     1.000163e+06     1.000163e+06\n",
       "mean                  3.657417e+04    -2.117615e+01    -4.639054e+01\n",
       "std                   3.054934e+04     5.715866e+00     4.269748e+00\n",
       "min                   1.001000e+03    -3.660537e+01    -1.014668e+02\n",
       "25%                   1.107500e+04    -2.360355e+01    -4.857317e+01\n",
       "50%                   2.653000e+04    -2.291938e+01    -4.663788e+01\n",
       "75%                   6.350400e+04    -1.997962e+01    -4.376771e+01\n",
       "max                   9.999000e+04     4.506593e+01     1.211054e+02"
      ]
     },
     "execution_count": 21,
     "metadata": {},
     "output_type": "execute_result"
    }
   ],
   "source": [
    "print('Jumlah duplikasi: ', geolocation_df.duplicated().sum())\n",
    "geolocation_df.describe()"
   ]
  },
  {
   "cell_type": "markdown",
   "metadata": {
    "id": "D8BRFEB-Mb_3"
   },
   "source": [
    "<h2>Menilai tabel order_items</h2>"
   ]
  },
  {
   "cell_type": "code",
   "execution_count": 22,
   "metadata": {
    "id": "gtooTNqtMb_4",
    "outputId": "c69cdb50-cec8-4d16-bd76-05dacec4ebc3"
   },
   "outputs": [
    {
     "name": "stdout",
     "output_type": "stream",
     "text": [
      "<class 'pandas.core.frame.DataFrame'>\n",
      "RangeIndex: 112650 entries, 0 to 112649\n",
      "Data columns (total 7 columns):\n",
      " #   Column               Non-Null Count   Dtype  \n",
      "---  ------               --------------   -----  \n",
      " 0   order_id             112650 non-null  object \n",
      " 1   order_item_id        112650 non-null  int64  \n",
      " 2   product_id           112650 non-null  object \n",
      " 3   seller_id            112650 non-null  object \n",
      " 4   shipping_limit_date  112650 non-null  object \n",
      " 5   price                112650 non-null  float64\n",
      " 6   freight_value        112650 non-null  float64\n",
      "dtypes: float64(2), int64(1), object(4)\n",
      "memory usage: 6.0+ MB\n"
     ]
    }
   ],
   "source": [
    "order_items_df.info()"
   ]
  },
  {
   "cell_type": "code",
   "execution_count": 23,
   "metadata": {
    "id": "9XfSTi4IMb_4",
    "outputId": "fdd25e68-346c-4c4f-92e0-56823798aa44"
   },
   "outputs": [
    {
     "data": {
      "text/plain": [
       "order_id               0\n",
       "order_item_id          0\n",
       "product_id             0\n",
       "seller_id              0\n",
       "shipping_limit_date    0\n",
       "price                  0\n",
       "freight_value          0\n",
       "dtype: int64"
      ]
     },
     "execution_count": 23,
     "metadata": {},
     "output_type": "execute_result"
    }
   ],
   "source": [
    "order_items_df.isna().sum()"
   ]
  },
  {
   "cell_type": "code",
   "execution_count": 24,
   "metadata": {
    "id": "2pKwf-CAMb_5",
    "outputId": "78271397-bf22-49df-f758-91c85b8ba2dd"
   },
   "outputs": [
    {
     "name": "stdout",
     "output_type": "stream",
     "text": [
      "Jumlah duplikasi:  0\n"
     ]
    },
    {
     "ename": "NameError",
     "evalue": "name 'order_items' is not defined",
     "output_type": "error",
     "traceback": [
      "\u001b[1;31m---------------------------------------------------------------------------\u001b[0m",
      "\u001b[1;31mNameError\u001b[0m                                 Traceback (most recent call last)",
      "Cell \u001b[1;32mIn[24], line 2\u001b[0m\n\u001b[0;32m      1\u001b[0m \u001b[38;5;28mprint\u001b[39m(\u001b[38;5;124m'\u001b[39m\u001b[38;5;124mJumlah duplikasi: \u001b[39m\u001b[38;5;124m'\u001b[39m, order_items_df\u001b[38;5;241m.\u001b[39mduplicated()\u001b[38;5;241m.\u001b[39msum())\n\u001b[1;32m----> 2\u001b[0m \u001b[43morder_items\u001b[49m\u001b[38;5;241m.\u001b[39mdescribe()\n",
      "\u001b[1;31mNameError\u001b[0m: name 'order_items' is not defined"
     ]
    }
   ],
   "source": [
    "print('Jumlah duplikasi: ', order_items_df.duplicated().sum())\n",
    "order_items.describe()"
   ]
  },
  {
   "cell_type": "markdown",
   "metadata": {
    "id": "XfCbOQfkMb_5"
   },
   "source": [
    "<h3>Menilai tabel order payments</h3>"
   ]
  },
  {
   "cell_type": "code",
   "execution_count": null,
   "metadata": {
    "id": "xvpq_vrYMb_5",
    "outputId": "c89cf5fb-571c-4594-e823-c94d484ac0dc"
   },
   "outputs": [],
   "source": [
    "order_payments_df.info()"
   ]
  },
  {
   "cell_type": "code",
   "execution_count": null,
   "metadata": {
    "id": "jIine5yJMb_6",
    "outputId": "24bbe6fb-530e-452a-89b9-58713165c714"
   },
   "outputs": [],
   "source": [
    "order_payments_df.isna().sum()"
   ]
  },
  {
   "cell_type": "code",
   "execution_count": null,
   "metadata": {
    "id": "sPRATcXPMb_6",
    "outputId": "92f6d68b-7535-4deb-e323-d9b5b8804bdb"
   },
   "outputs": [],
   "source": [
    "print('Jumlah duplikasi: ', order_payments_df.duplicated().sum())\n",
    "order_payments_df.describe()"
   ]
  },
  {
   "cell_type": "markdown",
   "metadata": {
    "id": "_XcBO7fdMb_7"
   },
   "source": [
    "<h3>Menilai tabel order review</h3>"
   ]
  },
  {
   "cell_type": "code",
   "execution_count": null,
   "metadata": {
    "id": "xe8aeiNzMb_7",
    "outputId": "0a756e23-dbf0-4531-9d33-770443738df6"
   },
   "outputs": [],
   "source": [
    "order_reviews_df.info()"
   ]
  },
  {
   "cell_type": "code",
   "execution_count": null,
   "metadata": {
    "id": "fpu8mzi2Mb_7",
    "outputId": "05e19728-9ee6-40db-a73e-c2f8a52c7423"
   },
   "outputs": [],
   "source": [
    "order_reviews_df.isna().sum()"
   ]
  },
  {
   "cell_type": "code",
   "execution_count": null,
   "metadata": {
    "id": "om6d_7_YMb_8",
    "outputId": "fb02cb07-7b54-48da-a046-7ad6b871347f"
   },
   "outputs": [],
   "source": [
    "print('Jumlah duplikasi: ', order_reviews_df.duplicated().sum())\n",
    "order_reviews_df.describe()"
   ]
  },
  {
   "cell_type": "markdown",
   "metadata": {
    "id": "irJ247opMb_8"
   },
   "source": [
    "<h3>Menilai tabel</h3>"
   ]
  },
  {
   "cell_type": "code",
   "execution_count": null,
   "metadata": {
    "id": "E98Gw6xzMb_9",
    "outputId": "8d712832-867b-4352-e72a-74f53d7cf794"
   },
   "outputs": [],
   "source": [
    "orders_df.info()"
   ]
  },
  {
   "cell_type": "code",
   "execution_count": null,
   "metadata": {
    "id": "_NZAipDJMb_9",
    "outputId": "3595e60b-cd3c-40ea-97ef-a8b99dfcf203"
   },
   "outputs": [],
   "source": [
    "orders_df.isna().sum()"
   ]
  },
  {
   "cell_type": "code",
   "execution_count": null,
   "metadata": {
    "id": "YIrzW1gyMb_-",
    "outputId": "68a076e9-87db-47d9-ff02-722647fb457c"
   },
   "outputs": [],
   "source": [
    "print('Jumlah duplikasi: ', orders_df.duplicated().sum())\n",
    "orders_df.describe()"
   ]
  },
  {
   "cell_type": "markdown",
   "metadata": {
    "id": "BdSh4RNwMb_-"
   },
   "source": [
    "<h3>Menilai tabel</h3>"
   ]
  },
  {
   "cell_type": "code",
   "execution_count": null,
   "metadata": {
    "id": "8iBkqUsWMb__",
    "outputId": "4d3b8028-a562-467f-86f9-b2c9b7de3105"
   },
   "outputs": [],
   "source": [
    "products_df.info()"
   ]
  },
  {
   "cell_type": "code",
   "execution_count": null,
   "metadata": {
    "id": "svfq-pb1McAA",
    "outputId": "01a35f0b-65d7-43a7-e950-3a451dba6b1a"
   },
   "outputs": [],
   "source": [
    "products_df.isna().sum()"
   ]
  },
  {
   "cell_type": "code",
   "execution_count": null,
   "metadata": {
    "id": "vqxLtb8cMcAA",
    "outputId": "c9c07c51-97e4-49f4-e273-b070b8cbbf4e"
   },
   "outputs": [],
   "source": [
    "print('Jumlah duplikasi: ', products_df.duplicated().sum())\n",
    "products_df.describe()"
   ]
  },
  {
   "cell_type": "markdown",
   "metadata": {
    "id": "8kXLpB2vMcAB"
   },
   "source": [
    "<h3>Menilai tabel</h3>"
   ]
  },
  {
   "cell_type": "code",
   "execution_count": null,
   "metadata": {
    "id": "2Reg4cRmMcAB",
    "outputId": "2fbf0251-f7c3-45e2-ed6e-eb888dbdca20"
   },
   "outputs": [],
   "source": [
    "product_category_df.info()"
   ]
  },
  {
   "cell_type": "code",
   "execution_count": null,
   "metadata": {
    "id": "P-Pv_peLMcAV",
    "outputId": "f912d8e2-3bd8-4d36-96fd-56c1a9ca05c0"
   },
   "outputs": [],
   "source": [
    "product_category_df.isna().sum()"
   ]
  },
  {
   "cell_type": "code",
   "execution_count": null,
   "metadata": {
    "id": "5u9p_WsyMcAW",
    "outputId": "e7d52fbb-f2ba-45bf-d2fa-ee90e57a5948"
   },
   "outputs": [],
   "source": [
    "print('Jumlah duplikasi: ', product_category_df.duplicated().sum())\n",
    "product_category_df.describe()"
   ]
  },
  {
   "cell_type": "markdown",
   "metadata": {
    "id": "5uafVkOKMcAX"
   },
   "source": [
    "<h3>Menilai tabel</h3>"
   ]
  },
  {
   "cell_type": "code",
   "execution_count": null,
   "metadata": {
    "id": "ZapC3A8MMcAX",
    "outputId": "235f7674-955b-4daf-f579-1e8c4241233d"
   },
   "outputs": [],
   "source": [
    "sellers_df.info()"
   ]
  },
  {
   "cell_type": "code",
   "execution_count": null,
   "metadata": {
    "id": "hAorca25McAY",
    "outputId": "f84a0963-1616-4f38-ce35-d1c81849fc3a"
   },
   "outputs": [],
   "source": [
    "sellers_df.isna().sum()"
   ]
  },
  {
   "cell_type": "code",
   "execution_count": null,
   "metadata": {
    "id": "RzalzoCyMcAY",
    "outputId": "f24cb84c-9739-4853-a56b-a07ffc13b018"
   },
   "outputs": [],
   "source": [
    "print('Jumlah duplikasi: ', sellers_df.duplicated().sum())\n",
    "sellers_df.describe()"
   ]
  },
  {
   "cell_type": "markdown",
   "metadata": {
    "id": "fi_vvFrTZh0C"
   },
   "source": [
    "### Cleaning Data (Pembersihan Data)\n",
    "ini merupakan tahapan penghapusan atau koreksi data yang bermasalah untuk memastikan data siap dianalisa"
   ]
  },
  {
   "cell_type": "markdown",
   "metadata": {
    "id": "45-qq5KBMcAZ"
   },
   "source": [
    "<h3>Menghapus data duplikasi pada geolofication</h3>"
   ]
  },
  {
   "cell_type": "code",
   "execution_count": null,
   "metadata": {
    "id": "1_sEPAmrMcAa",
    "outputId": "0cf379a5-715c-4ed5-bca5-01df1cc9a55d"
   },
   "outputs": [],
   "source": [
    "geolocation_df.duplicated().sum()"
   ]
  },
  {
   "cell_type": "code",
   "execution_count": null,
   "metadata": {
    "id": "4LXrF89MMcAa"
   },
   "outputs": [],
   "source": [
    "geolocation_df.drop_duplicates(inplace=True)"
   ]
  },
  {
   "cell_type": "code",
   "execution_count": null,
   "metadata": {
    "id": "6JOXN2TEMcAb",
    "outputId": "27c9cead-97ba-4e2e-e68b-ede6647787d6"
   },
   "outputs": [],
   "source": [
    "geolocation_df.duplicated().sum()"
   ]
  },
  {
   "cell_type": "markdown",
   "metadata": {
    "id": "qOmi7wnQZh0D"
   },
   "source": [
    "<h3>Mengganti tipe data menjadi datetime pada tabel order_item, order_review, dan orders</h3>"
   ]
  },
  {
   "cell_type": "code",
   "execution_count": null,
   "metadata": {
    "id": "z3ji_v3EMcAc"
   },
   "outputs": [],
   "source": [
    "dt_order_item = ['shipping_limit_date']\n",
    "for column in dt_order_item:\n",
    "    order_items_df[column] = pd.to_datetime(order_items_df[column])"
   ]
  },
  {
   "cell_type": "code",
   "execution_count": null,
   "metadata": {
    "id": "ASSUjekjMcAc",
    "outputId": "03d96f71-265d-49b7-e0aa-f5e1eb4261ae"
   },
   "outputs": [],
   "source": [
    "order_items_df.info()"
   ]
  },
  {
   "cell_type": "code",
   "execution_count": null,
   "metadata": {
    "id": "yq5IfYytMcAd"
   },
   "outputs": [],
   "source": [
    "dt_order_review = ['review_creation_date', 'review_answer_timestamp']\n",
    "for column in dt_order_review:\n",
    "    order_reviews_df[column] = pd.to_datetime(order_reviews_df[column])"
   ]
  },
  {
   "cell_type": "code",
   "execution_count": null,
   "metadata": {
    "id": "2h8NWuDeMcAe",
    "outputId": "f785dea3-25df-483b-9b49-fe03af7cd338"
   },
   "outputs": [],
   "source": [
    "order_reviews_df.info()"
   ]
  },
  {
   "cell_type": "code",
   "execution_count": null,
   "metadata": {
    "id": "xQ4jDh3_McAe"
   },
   "outputs": [],
   "source": [
    "dt_orders = [\n",
    "    'order_purchase_timestamp',\n",
    "    'order_approved_at',\n",
    "    'order_delivered_carrier_date',\n",
    "    'order_delivered_customer_date',\n",
    "    'order_estimated_delivery_date'\n",
    "]\n",
    "\n",
    "for column in dt_orders:\n",
    "    orders_df[column] = pd.to_datetime(orders_df[column])"
   ]
  },
  {
   "cell_type": "code",
   "execution_count": null,
   "metadata": {
    "id": "UVmnYMZkMcAf",
    "outputId": "df3c4582-3e85-4846-f1ed-4ee80e0c0f72"
   },
   "outputs": [],
   "source": [
    "orders_df.info()"
   ]
  },
  {
   "cell_type": "markdown",
   "metadata": {
    "id": "eUeXhCi_McAg"
   },
   "source": [
    "<h3>Mengisi missing values pada tabel order_review_df, product_df, & orders_df</h3>"
   ]
  },
  {
   "cell_type": "code",
   "execution_count": null,
   "metadata": {
    "id": "O6yB7AdbMcAg",
    "outputId": "2883af31-0404-4431-b540-2311fcef34df"
   },
   "outputs": [],
   "source": [
    "order_reviews_df.isna().sum()"
   ]
  },
  {
   "cell_type": "code",
   "execution_count": null,
   "metadata": {
    "id": "Nypms9JqMcAh"
   },
   "outputs": [],
   "source": [
    "order_reviews_df.fillna({\n",
    "    'review_comment_title': \"No Title\",\n",
    "    'review_comment_message': \"No Message\"\n",
    "},inplace=True)"
   ]
  },
  {
   "cell_type": "code",
   "execution_count": null,
   "metadata": {
    "id": "6ToEuonNMcAh",
    "outputId": "722d10bc-86aa-4dbd-8767-70a98fdb8952"
   },
   "outputs": [],
   "source": [
    "products_df.isna().sum()"
   ]
  },
  {
   "cell_type": "code",
   "execution_count": null,
   "metadata": {
    "id": "dQqVE7g-McAi",
    "outputId": "97247825-faad-4f2c-b5cf-686ca53cb66c"
   },
   "outputs": [],
   "source": [
    "orders_df.isna().sum()"
   ]
  },
  {
   "cell_type": "code",
   "execution_count": null,
   "metadata": {
    "id": "IgELHKUaMcAk"
   },
   "outputs": [],
   "source": [
    "orders_df.ffill(inplace=True)"
   ]
  },
  {
   "cell_type": "code",
   "execution_count": null,
   "metadata": {
    "id": "1-2LNIXaMcAl",
    "outputId": "0ed5458c-29c6-47f7-cb85-b6a6802cdd0c"
   },
   "outputs": [],
   "source": [
    "orders_df.isna().sum()"
   ]
  },
  {
   "cell_type": "markdown",
   "metadata": {
    "id": "a5unbEGdZh0E"
   },
   "source": [
    "## Exploratory Data Analysis (EDA)"
   ]
  },
  {
   "cell_type": "markdown",
   "metadata": {
    "id": "fIFZTP1wMcAn"
   },
   "source": [
    "<h3>Mengexplore tabel customers</h3>"
   ]
  },
  {
   "cell_type": "code",
   "execution_count": null,
   "metadata": {
    "id": "baE71k3GMcAn",
    "outputId": "a679f807-2df3-4f8d-d25c-611f7aad3c06"
   },
   "outputs": [],
   "source": [
    "customer_df.describe(include='all')"
   ]
  },
  {
   "cell_type": "code",
   "execution_count": null,
   "metadata": {
    "id": "5J9ra0OcMcAo",
    "outputId": "bb520bc7-8645-4217-e9cd-7770a3abefa7"
   },
   "outputs": [],
   "source": [
    "customer_df.customer_id.is_unique"
   ]
  },
  {
   "cell_type": "markdown",
   "metadata": {
    "id": "9N0ypWohMcAp"
   },
   "source": [
    "Mengetahui dari kota mana pelanggan berasal yang paling dominan"
   ]
  },
  {
   "cell_type": "code",
   "execution_count": null,
   "metadata": {
    "id": "0FgCToF3McAq",
    "outputId": "b565f9bd-a050-4f24-db91-977c3867b7a8"
   },
   "outputs": [],
   "source": [
    "customer_df.groupby(by='customer_city')['customer_id'].nunique().sort_values(ascending=False)"
   ]
  },
  {
   "cell_type": "markdown",
   "metadata": {
    "id": "Kqt4TDb8McAq"
   },
   "source": [
    "Mengeksplore tabel order_payment"
   ]
  },
  {
   "cell_type": "code",
   "execution_count": null,
   "metadata": {
    "id": "y6K0BbjhMcAr",
    "outputId": "23f4f495-86dd-4680-9818-b52860f0356a"
   },
   "outputs": [],
   "source": [
    "order_payments_df"
   ]
  },
  {
   "cell_type": "code",
   "execution_count": null,
   "metadata": {
    "id": "M9om9hHjMcAs",
    "outputId": "004aa3c4-3f2a-469d-dd38-34cd022df3b7"
   },
   "outputs": [],
   "source": [
    "order_payments_df.groupby(by='payment_type')['order_id'].size().sort_values(ascending=False)"
   ]
  },
  {
   "cell_type": "code",
   "execution_count": null,
   "metadata": {
    "id": "KFvW5nh2McAs",
    "outputId": "087b4a7d-7a40-410c-f99a-deceae883ab4"
   },
   "outputs": [],
   "source": [
    "order_payments_df.sort_values(by='payment_value', ascending=False)"
   ]
  },
  {
   "cell_type": "markdown",
   "metadata": {
    "id": "1oFvHAqqMcAt"
   },
   "source": [
    "<h3>Explore All data</h3>"
   ]
  },
  {
   "cell_type": "markdown",
   "metadata": {
    "id": "BJD1sSf7McAt"
   },
   "source": [
    "Menggabungkan tabel customer_df dan orders_df"
   ]
  },
  {
   "cell_type": "code",
   "execution_count": null,
   "metadata": {
    "id": "Ex0i2NjFMcAu",
    "outputId": "0d9c17c0-94fc-4952-855b-525f02c9a10f"
   },
   "outputs": [],
   "source": [
    "customer_orders_df = pd.merge(\n",
    "    left=customer_df,\n",
    "    right=orders_df,\n",
    "    how='left',\n",
    "    left_on='customer_id',\n",
    "    right_on='customer_id'\n",
    ")\n",
    "customer_orders_df.head()"
   ]
  },
  {
   "cell_type": "markdown",
   "metadata": {
    "id": "SkuTRrutMcAu"
   },
   "source": [
    "Menggabungkan tabel products_df dan product_category_name_df"
   ]
  },
  {
   "cell_type": "code",
   "execution_count": null,
   "metadata": {
    "id": "hE_X1CDKMcAv"
   },
   "outputs": [],
   "source": [
    "new_products_df = pd.merge(\n",
    "    left=products_df,\n",
    "    right=product_category_df,\n",
    "    how='left',\n",
    "    left_on='product_category_name',\n",
    "    right_on='product_category_name'\n",
    ")"
   ]
  },
  {
   "cell_type": "code",
   "execution_count": null,
   "metadata": {
    "id": "71H8V8OAMcAw",
    "outputId": "2efbf0dc-74f7-4477-96f4-eac1bf066183"
   },
   "outputs": [],
   "source": [
    "column = new_products_df.pop('product_category_name_english')\n",
    "new_products_df.insert(2, column.name, column)\n",
    "new_products_df.head()"
   ]
  },
  {
   "cell_type": "markdown",
   "metadata": {
    "id": "G6hHTSVcMcAw"
   },
   "source": [
    "Menggabungkan tabel customer_order_df dan order_payment_df"
   ]
  },
  {
   "cell_type": "code",
   "execution_count": null,
   "metadata": {
    "id": "81UWka2AMcAx",
    "outputId": "bf5e0d67-59b8-410e-d486-2688270c1e05"
   },
   "outputs": [],
   "source": [
    "merge1 = pd.merge(\n",
    "    left=customer_orders_df,\n",
    "    right=order_payments_df,\n",
    "    how='left',\n",
    "    left_on='order_id',\n",
    "    right_on='order_id'\n",
    ")\n",
    "merge1.head()"
   ]
  },
  {
   "cell_type": "markdown",
   "metadata": {
    "id": "SD7nlS7dMcAx"
   },
   "source": [
    "Menggabungkan semua tabel"
   ]
  },
  {
   "cell_type": "code",
   "execution_count": null,
   "metadata": {
    "id": "wh2yhT7zMcAy",
    "outputId": "25859a7e-5775-4cfa-b4ed-6b8f216da81d"
   },
   "outputs": [],
   "source": [
    "merge2 = pd.merge(\n",
    "    left=merge1,\n",
    "    right=order_items_df,\n",
    "    how='left',\n",
    "    left_on='order_id',\n",
    "    right_on='order_id'\n",
    ")\n",
    "merge2.head()"
   ]
  },
  {
   "cell_type": "code",
   "execution_count": null,
   "metadata": {
    "id": "PXzifhDlMcAz",
    "outputId": "b9952e6c-d62c-4ab4-c637-b3f76a06efe0"
   },
   "outputs": [],
   "source": [
    "merge3 = pd.merge(\n",
    "    left=merge2,\n",
    "    right=new_products_df,\n",
    "    how='left',\n",
    "    left_on='product_id',\n",
    "    right_on='product_id'\n",
    ")\n",
    "merge3.head()"
   ]
  },
  {
   "cell_type": "code",
   "execution_count": null,
   "metadata": {
    "id": "3UbbrjqkMcA0",
    "outputId": "3fc60195-e491-4dcd-e12a-3f94d27cdf04"
   },
   "outputs": [],
   "source": [
    "merge4 = pd.merge(\n",
    "    left=merge3,\n",
    "    right=sellers_df,\n",
    "    how='left',\n",
    "    left_on='seller_id',\n",
    "    right_on='seller_id'\n",
    ")\n",
    "merge4.head()"
   ]
  },
  {
   "cell_type": "code",
   "execution_count": null,
   "metadata": {
    "id": "awfSCtCwMcA1",
    "outputId": "60289c7f-c685-4c9f-e0a6-edafc65e870e"
   },
   "outputs": [],
   "source": [
    "all_df = pd.merge(\n",
    "    left=merge4,\n",
    "    right=order_reviews_df,\n",
    "    how='left',\n",
    "    left_on='order_id',\n",
    "    right_on='order_id'\n",
    ")\n",
    "all_df.head()"
   ]
  },
  {
   "cell_type": "code",
   "execution_count": null,
   "metadata": {
    "id": "D0i_ulmDMcA1",
    "outputId": "520c5348-38f2-40b7-a889-e8bdfb16a9de"
   },
   "outputs": [],
   "source": [
    "all_df.describe()"
   ]
  },
  {
   "cell_type": "markdown",
   "metadata": {
    "id": "Em5INie2McA2"
   },
   "source": [
    "Menampilkan total laba berdasarkan negara bagian untuk setiap kategori produk."
   ]
  },
  {
   "cell_type": "code",
   "execution_count": null,
   "metadata": {
    "id": "XFbkUR9QMcA2",
    "outputId": "c9bf7544-8a1f-40c6-8874-05e7a081e5bc"
   },
   "outputs": [],
   "source": [
    "all_df.groupby(by=['customer_state', 'product_category_name_english']).agg({\n",
    "    'price' : 'sum',\n",
    "}).sort_values(by='price', ascending=False)"
   ]
  },
  {
   "cell_type": "markdown",
   "metadata": {
    "id": "uOwGORmUMcA3"
   },
   "source": [
    "Melihat tingkat jumlah kepuasan pembeli"
   ]
  },
  {
   "cell_type": "code",
   "execution_count": null,
   "metadata": {
    "id": "_-O-pE4ZMcA3",
    "outputId": "d762410d-80e0-4bf6-b2d9-3174d0bc2007"
   },
   "outputs": [],
   "source": [
    "all_df.groupby(by=['review_score'])['customer_id'].size().reset_index().sort_values(by='review_score', ascending=False)"
   ]
  },
  {
   "cell_type": "markdown",
   "metadata": {
    "id": "okd6mxXEMcA4"
   },
   "source": [
    "#### RFM"
   ]
  },
  {
   "cell_type": "code",
   "execution_count": null,
   "metadata": {
    "id": "18Ndzsl8Zh0I"
   },
   "outputs": [],
   "source": [
    "today=dt.datetime(2018,10,20)"
   ]
  },
  {
   "cell_type": "code",
   "execution_count": null,
   "metadata": {
    "id": "il4MdaNuMcA5"
   },
   "outputs": [],
   "source": [
    "all_df['order_purchase_timestamp'] = pd.to_datetime(all_df['order_purchase_timestamp'])\n",
    "\n",
    "#Dikelompokkan dari 'customer_id'\n",
    "recency = (today - all_df.groupby('customer_id')['order_purchase_timestamp'].max()).dt.days\n",
    "frequency = all_df.groupby('customer_id')['order_id'].count()\n",
    "monetary = all_df.groupby('customer_id')['price'].sum()\n",
    "\n",
    "#Membuat dataframe baru\n",
    "rfm_df = pd.DataFrame({\n",
    "    'customer_id': recency.index,\n",
    "    'Recency': recency.values,\n",
    "    'Frequency': frequency.values,\n",
    "    'Monetary': monetary.values\n",
    "})"
   ]
  },
  {
   "cell_type": "code",
   "execution_count": null,
   "metadata": {
    "id": "WHyJ_zixMcA5"
   },
   "outputs": [],
   "source": [
    "column_list = ['customer_id','Recency','Frequency','Monetary']\n",
    "rfm_df.columns = column_list"
   ]
  },
  {
   "cell_type": "markdown",
   "metadata": {
    "id": "TmTK0RMRMcA6"
   },
   "source": [
    "Customer dengan pengeluaran terbesar"
   ]
  },
  {
   "cell_type": "code",
   "execution_count": null,
   "metadata": {
    "id": "q51ybVguMcA6",
    "outputId": "1e09a30e-f998-4497-ac7b-632212396569"
   },
   "outputs": [],
   "source": [
    "rfm_df.sort_values(by='Monetary', ascending=False)"
   ]
  },
  {
   "cell_type": "markdown",
   "metadata": {
    "id": "eO8rfMSjMcA6"
   },
   "source": [
    "Customer dengan terakhir kali belanja"
   ]
  },
  {
   "cell_type": "code",
   "execution_count": null,
   "metadata": {
    "id": "zVCxj8_pMcA7",
    "outputId": "2c2f645e-8a0f-4a3e-f7f2-126aba6d95b0"
   },
   "outputs": [],
   "source": [
    "rfm_df.sort_values(by='Recency', ascending=False)"
   ]
  },
  {
   "cell_type": "markdown",
   "metadata": {
    "id": "tdwg03jNMcA7"
   },
   "source": [
    "Customer dengan jumlah belanja terbanyak"
   ]
  },
  {
   "cell_type": "code",
   "execution_count": null,
   "metadata": {
    "id": "6m8-aBHBMcA8",
    "outputId": "211fbc16-283d-4284-a38c-c9a5064b5348"
   },
   "outputs": [],
   "source": [
    "rfm_df.sort_values(by='Frequency', ascending=False)"
   ]
  },
  {
   "cell_type": "code",
   "execution_count": null,
   "metadata": {
    "id": "01fXxLMkMcA8"
   },
   "outputs": [],
   "source": [
    "all_df.to_csv('all_data.csv', index=False)"
   ]
  },
  {
   "cell_type": "markdown",
   "metadata": {
    "id": "msX7Kzy0Zh0J"
   },
   "source": [
    "## Visualization & Explanatory Analysis"
   ]
  },
  {
   "cell_type": "markdown",
   "metadata": {
    "id": "MaywlylLZh0L"
   },
   "source": [
    "### Pertanyaan 1:"
   ]
  },
  {
   "cell_type": "markdown",
   "metadata": {
    "id": "nqh9C8UFZh0M"
   },
   "source": [
    "Apa produk yang paling banyak dibeli dan paling sedikit dibeli?"
   ]
  },
  {
   "cell_type": "code",
   "execution_count": null,
   "metadata": {
    "id": "HtSOiuknMcA-",
    "outputId": "75b145eb-0ee1-42a5-b9ca-3144165f6102"
   },
   "outputs": [],
   "source": [
    "product_counts = all_df.groupby('product_category_name_english')['product_id'].count().reset_index()\n",
    "sorted_df = product_counts.sort_values(by='product_id', ascending=False)\n",
    "sorted_df"
   ]
  },
  {
   "cell_type": "code",
   "execution_count": null,
   "metadata": {
    "id": "nPLwqmEiMcA_",
    "outputId": "a1fe3efa-47d8-4c67-922d-0ace9975c0c3"
   },
   "outputs": [],
   "source": [
    "fig, ax = plt.subplots(nrows=1, ncols=2, figsize=(24, 6))\n",
    "\n",
    "colors = [\"#72BCD4\", \"#D3D3D3\", \"#D3D3D3\", \"#D3D3D3\", \"#D3D3D3\"]\n",
    "\n",
    "sns.barplot(x=\"product_id\", y=\"product_category_name_english\", hue=\"product_category_name_english\", data=sorted_df.head(5), palette=colors, ax=ax[0])\n",
    "ax[0].set_ylabel(None)\n",
    "ax[0].set_xlabel(None)\n",
    "ax[0].set_title(\"Produk yang paling banyak dibeli\", loc=\"center\", fontsize=19)\n",
    "ax[0].tick_params(axis='y', labelsize=15)\n",
    "\n",
    "sns.barplot(x=\"product_id\", y=\"product_category_name_english\", hue=\"product_category_name_english\", data=sorted_df.sort_values(by=\"product_id\", ascending=True).head(5), palette=colors, ax=ax[1])\n",
    "ax[1].set_ylabel(None)\n",
    "ax[1].set_xlabel(None)\n",
    "ax[1].invert_xaxis()\n",
    "ax[1].yaxis.set_label_position(\"right\")\n",
    "ax[1].yaxis.tick_right()\n",
    "ax[1].set_title(\"Produk yang paling sedikit dibeli\", loc=\"center\", fontsize=19)\n",
    "ax[1].tick_params(axis='y', labelsize=15)\n",
    "\n",
    "plt.suptitle(\"Produk yang paling banyak dan sedikit dibeli\", fontsize=28)\n",
    "plt.show()"
   ]
  },
  {
   "cell_type": "markdown",
   "metadata": {
    "id": "RvRncHmxZh0N"
   },
   "source": [
    "### Pertanyaan 2:"
   ]
  },
  {
   "cell_type": "markdown",
   "metadata": {
    "id": "npgvw5lEZh0O"
   },
   "source": [
    "Bagaimana tingkat kepuasan pembeli terhadap layanan?"
   ]
  },
  {
   "cell_type": "code",
   "execution_count": null,
   "metadata": {
    "id": "SJKC831lMcBA",
    "outputId": "609350ff-ff2c-4dce-a77e-4fa62e612f57"
   },
   "outputs": [],
   "source": [
    "rating_service = all_df['review_score'].value_counts().sort_values(ascending=False)\n",
    "max_score = rating_service.idxmax()\n",
    "\n",
    "colors = [\"#72BCD4\" if score == max_score else \"#D3D3D3\" for score in rating_service.index]\n",
    "\n",
    "sns.set(style=\"darkgrid\")\n",
    "\n",
    "plt.figure(figsize=(10, 5))\n",
    "sns.barplot(x=rating_service.index,\n",
    "            y=rating_service.values,\n",
    "            order=rating_service.index\n",
    "            )\n",
    "\n",
    "plt.title(\"Penilaian Customer terhadap Pelayanan\", fontsize=15)\n",
    "plt.xlabel(\"Rating\")\n",
    "plt.ylabel(\"Customer\")\n",
    "plt.xticks(fontsize=12)\n",
    "plt.show()"
   ]
  },
  {
   "cell_type": "markdown",
   "metadata": {
    "id": "UaFqMChwMcBC"
   },
   "source": [
    "### Pertanyaan 3:"
   ]
  },
  {
   "cell_type": "markdown",
   "metadata": {
    "id": "Bl4ZcIgTMcBC"
   },
   "source": [
    "Kota mana yang memiliki seller dan customer paling banyak?"
   ]
  },
  {
   "cell_type": "code",
   "execution_count": null,
   "metadata": {
    "id": "Cp37kcpgMcBD",
    "outputId": "4495fe3e-94c8-46ab-a0b5-e2776a70e475"
   },
   "outputs": [],
   "source": [
    "city_seller = all_df.seller_city.value_counts().sort_values(ascending=False).rename_axis('City').reset_index(name='Number of Sellers')\n",
    "city_seller"
   ]
  },
  {
   "cell_type": "code",
   "execution_count": null,
   "metadata": {
    "id": "FgkcsteJMcBD",
    "outputId": "5c8e7e1b-8319-49ac-fbe5-08b3fa1948b5"
   },
   "outputs": [],
   "source": [
    "top_5_cities = city_seller.head(5)\n",
    "plt.figure(figsize=(10, 6))\n",
    "colors = [\"#72BCD4\" if city == top_5_cities['City'].iloc[0] else \"#D3D3D3\" for city in top_5_cities['City']]\n",
    "sns.barplot(x=\"Number of Sellers\", y=\"City\", data=top_5_cities, hue=top_5_cities['City'], palette=colors, legend=False)\n",
    "plt.xlabel('Jumlah Penjual')\n",
    "plt.ylabel('Kota')\n",
    "plt.title('5 Kota dengan Penjual Terbanyak')\n",
    "\n",
    "plt.show()"
   ]
  },
  {
   "cell_type": "code",
   "execution_count": null,
   "metadata": {
    "id": "Za_g1685McBE",
    "outputId": "4a500e84-4145-4cd1-cdb7-52b4f1d1083c"
   },
   "outputs": [],
   "source": [
    "city_customer = all_df.customer_city.value_counts().sort_values(ascending=False).rename_axis('City').reset_index(name='Number of Customers')\n",
    "city_customer"
   ]
  },
  {
   "cell_type": "code",
   "execution_count": null,
   "metadata": {
    "id": "05BdgTFCMcBE",
    "outputId": "47af1f24-3fdd-4d1c-f870-345a93e494f1"
   },
   "outputs": [],
   "source": [
    "top_5_cities_customer = city_customer.head(5)\n",
    "plt.figure(figsize=(10, 6))\n",
    "colors = [\"#72BCD4\" if city == top_5_cities_customer['City'].iloc[0] else \"#D3D3D3\" for city in top_5_cities_customer['City']]\n",
    "sns.barplot(x=\"Number of Customers\", y=\"City\", data=top_5_cities_customer, hue=top_5_cities_customer['City'], palette=colors, legend=False)\n",
    "plt.xlabel('Jumlah Customer')\n",
    "plt.ylabel('Kota')\n",
    "plt.title('5 Kota dengan Customer Terbanyak')\n",
    "\n",
    "plt.show()"
   ]
  },
  {
   "cell_type": "markdown",
   "metadata": {
    "id": "G2F2uf5vMcBF"
   },
   "source": [
    "### Pertanyaan 4:"
   ]
  },
  {
   "cell_type": "markdown",
   "metadata": {
    "id": "q_4fpxXXMcBG"
   },
   "source": [
    "Metode pembayaran mana yang digunakan untuk jumlah pembayaran terbesar? Berapa besarnya nilai pembayarannya?"
   ]
  },
  {
   "cell_type": "code",
   "execution_count": null,
   "metadata": {
    "id": "Xol4G_EeMcBG",
    "outputId": "53ed9b06-98c6-4005-e0ec-74170b574b5f"
   },
   "outputs": [],
   "source": [
    "total_payment_type = all_df.groupby('payment_type')['payment_value'].sum().reset_index()\n",
    "total_payment_type"
   ]
  },
  {
   "cell_type": "code",
   "execution_count": null,
   "metadata": {
    "id": "ta96TjwCMcBH",
    "outputId": "66c02b1d-47c7-45e0-af68-d906331b83b2"
   },
   "outputs": [],
   "source": [
    "# Konversi nilai ke format \"Jt\"\n",
    "total_payment_type['payment_value_million'] = total_payment_type['payment_value'] / 1e6\n",
    "plt.figure(figsize=(10, 6))\n",
    "sns.barplot(x=\"payment_type\", y=\"payment_value_million\", data=total_payment_type)\n",
    "plt.xlabel('Tipe Pembayaran')\n",
    "plt.ylabel('Total Pembayaran (Juta)')\n",
    "plt.title('Total Pembayaran berdasarkan Tipe')\n",
    "\n",
    "# Menambahkan format label sumbu y\n",
    "fmt = '{x:,.0f} Jt'\n",
    "tick = mtick.StrMethodFormatter(fmt)\n",
    "plt.gca().yaxis.set_major_formatter(tick)\n",
    "plt.show()"
   ]
  },
  {
   "cell_type": "markdown",
   "metadata": {
    "id": "TGetylI1McBH"
   },
   "source": [
    "### Pertanyaan 5:"
   ]
  },
  {
   "cell_type": "markdown",
   "metadata": {
    "id": "ANvezerXMcBI"
   },
   "source": [
    "Customer mana yang paling sering dan paling sedikit membeli?"
   ]
  },
  {
   "cell_type": "code",
   "execution_count": null,
   "metadata": {
    "id": "ZBDC4QhEMcBI",
    "outputId": "c76a00ae-f6c5-41f3-f631-507ed4e15654"
   },
   "outputs": [],
   "source": [
    "rfm_df.sort_values(by='Recency', ascending=False)"
   ]
  },
  {
   "cell_type": "markdown",
   "metadata": {
    "id": "vXMftc6vMcBJ"
   },
   "source": [
    "### Pertanyaan 6:"
   ]
  },
  {
   "cell_type": "markdown",
   "metadata": {
    "id": "vyNYX97hMcBJ"
   },
   "source": [
    "Berapa Angsuran Tertinggi dan Terendah?"
   ]
  },
  {
   "cell_type": "code",
   "execution_count": null,
   "metadata": {
    "id": "Qk2KkAVMMcBK",
    "outputId": "7cbd6757-c4ba-49ec-e161-c31324f32667"
   },
   "outputs": [],
   "source": [
    "order_payments_df.sort_values(by='payment_installments', ascending=False)"
   ]
  },
  {
   "cell_type": "markdown",
   "metadata": {
    "id": "9AfCfr6VZh0O"
   },
   "source": [
    "## Conclusion"
   ]
  },
  {
   "cell_type": "markdown",
   "metadata": {
    "id": "HXuHr1lSZh0P"
   },
   "source": [
    "- Conclution pertanyaan 1: <br>\n",
    "Apa produk yang paling banyak dibeli dan paling sedikit dibeli?\n",
    "Berdasarkan data yang tertera produk yang paling banyak dibeli adalah bed_bath_table dan produk yang paling sedikit dibeli adalah security_and_service"
   ]
  },
  {
   "cell_type": "markdown",
   "metadata": {
    "id": "jff0Id00Zh0R"
   },
   "source": [
    "- Conclution Pertanyaan 2 : <br>\n",
    "Bagaimana tingkat kepuasan pembeli terhadap pelayanan?\n",
    "Berdasarkan data yang tertera lebih dari 60.000 pembeli yang merasa puas terhadap pelayanan yang diberikan"
   ]
  },
  {
   "cell_type": "markdown",
   "metadata": {
    "id": "0Oy0oTC0McBL"
   },
   "source": [
    "- Conclution Pertanyaan 3: <br>\n",
    "Kota mana yang memiliki seller paling banyak?\n",
    "Kota San Paulo dengan seller yang berjumlah 18.875 orang"
   ]
  },
  {
   "cell_type": "markdown",
   "metadata": {
    "id": "-gyBNK01McBM"
   },
   "source": [
    "- Conclution Pertanyaan 4: <br>\n",
    "Metode pembayaran mana yang digunakan untuk jumlah pembayaran terbesar? Berapa besarnya nilai pembayarannya?\n",
    "Berdasarkan data yang tertera metode pembayaran yang digunakan untuk jumlah pembayaran terbesar adalah credit card dengan nomina yang hampir mencapai 16 juta"
   ]
  },
  {
   "cell_type": "markdown",
   "metadata": {
    "id": "JwzonGccMcBM"
   },
   "source": [
    "- Conclution Pertanyaan 5: <br>\n",
    "Customer mana yang paling sering dan paling sedikit membeli?\n",
    "Berdasarkan data di atas costumer yang paling sedikit membeli ada 2 dan yang paling sering ada 775"
   ]
  }
 ],
 "metadata": {
  "colab": {
   "provenance": []
  },
  "kernelspec": {
   "display_name": "Python 3",
   "language": "python",
   "name": "python3"
  },
  "language_info": {
   "codemirror_mode": {
    "name": "ipython",
    "version": 3
   },
   "file_extension": ".py",
   "mimetype": "text/x-python",
   "name": "python",
   "nbconvert_exporter": "python",
   "pygments_lexer": "ipython3",
   "version": "3.9.1"
  }
 },
 "nbformat": 4,
 "nbformat_minor": 4
}
